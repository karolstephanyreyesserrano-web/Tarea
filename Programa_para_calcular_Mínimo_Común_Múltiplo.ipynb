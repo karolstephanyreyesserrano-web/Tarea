{
  "nbformat": 4,
  "nbformat_minor": 0,
  "metadata": {
    "colab": {
      "provenance": [],
      "authorship_tag": "ABX9TyM60/Tu0ssKA1027DvehXI5",
      "include_colab_link": true
    },
    "kernelspec": {
      "name": "python3",
      "display_name": "Python 3"
    },
    "language_info": {
      "name": "python"
    }
  },
  "cells": [
    {
      "cell_type": "markdown",
      "metadata": {
        "id": "view-in-github",
        "colab_type": "text"
      },
      "source": [
        "<a href=\"https://colab.research.google.com/github/karolstephanyreyesserrano-web/Tarea/blob/main/Programa_para_calcular_M%C3%ADnimo_Com%C3%BAn_M%C3%BAltiplo.ipynb\" target=\"_parent\"><img src=\"https://colab.research.google.com/assets/colab-badge.svg\" alt=\"Open In Colab\"/></a>"
      ]
    },
    {
      "cell_type": "code",
      "execution_count": 19,
      "metadata": {
        "colab": {
          "base_uri": "https://localhost:8080/"
        },
        "id": "-qenO-ss8hnc",
        "outputId": "b6ad4f7b-ac8e-4d42-ba02-c8a653135f49"
      },
      "outputs": [
        {
          "output_type": "stream",
          "name": "stdout",
          "text": [
            "Ingresa el primer numero:15\n",
            "Ingresa el segundo numero:12\n",
            "El minimo comun multiplo de 15 y 12 es 60\n"
          ]
        }
      ],
      "source": [
        "a=int(input(\"Ingresa el primer numero:\"))\n",
        "b=int(input(\"Ingresa el segundo numero:\"))\n",
        "def mcm(a, b) :\n",
        "  \"\"\"Calcula el minimo comun multiplo (mcm) de dos numeros enteros.\"\"\"\n",
        "  if a == 0 or b == 0:\n",
        "    return 0\n",
        "  if a > b:\n",
        "    mayor = a\n",
        "  else:\n",
        "    mayor = b\n",
        "  while(True):\n",
        "    if((mayor % a == 0) and (mayor % b == 0)):\n",
        "      mcm = mayor\n",
        "      return mcm # La declaracion de retur debe de estar dentro del bloque\n",
        "    mayor += 1\n",
        "\n",
        "print(\"El minimo comun multiplo de\", a, \"y\", b, \"es\", mcm(a, b))"
      ]
    }
  ]
}